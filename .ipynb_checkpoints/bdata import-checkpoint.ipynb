{
 "cells": [
  {
   "cell_type": "markdown",
   "metadata": {},
   "source": [
    "# Notes on Installing bdata"
   ]
  },
  {
   "cell_type": "markdown",
   "metadata": {},
   "source": [
    "Install from pip3:<br>\n",
    "<code>pip3 install bdata</code> <br>\n",
    "\n",
    "Tried running bdata command directly from bash:<br>\n",
    "<code>bdata<br>OUTPUT: command not found! </code>\n",
    "\n",
    "### Troubleshoot 1: Export bdata folder to PATH\n",
    "Tried exporting the path of bdata via:<br>\n",
    "<code>pip show bdata<br> OUTPUT:bdata<br> blablabla<br> ~/anaconda3/lib/python3.7/site-packages</code>\n",
    "Tried running again from bash:<code> bdata </code>, but same problem.\n",
    "\n",
    "Tried to run <code>source ~/.bashrc</code> and <code>source ~/.profile</code>,<br>\n",
    "but the PATH doesn't seem to be added permanently. WEIRD.\n",
    "    \n",
    "### Troubleshoot 2: Running from ipython \n",
    "Go to ipython <code>ipython</code><br>\n",
    "\n",
    "<code> import bdata as bd </code><br>\n",
    "Seems to be working !"
   ]
  },
  {
   "cell_type": "code",
   "execution_count": 1,
   "metadata": {},
   "outputs": [],
   "source": [
    "import bdata as bd"
   ]
  },
  {
   "cell_type": "code",
   "execution_count": 2,
   "metadata": {},
   "outputs": [
    {
     "data": {
      "text/plain": [
       "['__all__',\n",
       " '__author__',\n",
       " '__builtins__',\n",
       " '__cached__',\n",
       " '__doc__',\n",
       " '__file__',\n",
       " '__loader__',\n",
       " '__name__',\n",
       " '__package__',\n",
       " '__path__',\n",
       " '__spec__',\n",
       " '__version__',\n",
       " '_mud_data',\n",
       " 'bdata',\n",
       " 'bjoined',\n",
       " 'life',\n",
       " 'mcomment',\n",
       " 'mcontainer',\n",
       " 'mdata',\n",
       " 'mdict',\n",
       " 'mhist',\n",
       " 'mlist',\n",
       " 'mscaler',\n",
       " 'mudpy',\n",
       " 'mvar',\n",
       " 'os']"
      ]
     },
     "execution_count": 2,
     "metadata": {},
     "output_type": "execute_result"
    }
   ],
   "source": [
    "dir(bd)"
   ]
  },
  {
   "cell_type": "code",
   "execution_count": 3,
   "metadata": {},
   "outputs": [
    {
     "data": {
      "text/plain": [
       "['__class__',\n",
       " '__delattr__',\n",
       " '__dict__',\n",
       " '__dir__',\n",
       " '__doc__',\n",
       " '__eq__',\n",
       " '__format__',\n",
       " '__ge__',\n",
       " '__getattr__',\n",
       " '__getattribute__',\n",
       " '__gt__',\n",
       " '__hash__',\n",
       " '__init__',\n",
       " '__init_subclass__',\n",
       " '__le__',\n",
       " '__lt__',\n",
       " '__module__',\n",
       " '__ne__',\n",
       " '__new__',\n",
       " '__reduce__',\n",
       " '__reduce_ex__',\n",
       " '__repr__',\n",
       " '__setattr__',\n",
       " '__sizeof__',\n",
       " '__str__',\n",
       " '__subclasshook__',\n",
       " '__weakref__',\n",
       " '_get_1f_sum_scans',\n",
       " '_get_2e_asym',\n",
       " '_get_area_data',\n",
       " '_get_asym_alpha',\n",
       " '_get_asym_alpha_tag',\n",
       " '_get_asym_comb',\n",
       " '_get_asym_hel',\n",
       " '_get_ppg',\n",
       " '_get_xhist',\n",
       " '_read_mdict',\n",
       " '_rebin',\n",
       " 'asym',\n",
       " 'beam_kev',\n",
       " 'comment_attribute_functions',\n",
       " 'description_attribute_functions',\n",
       " 'dkeys',\n",
       " 'evar_bnmr',\n",
       " 'evar_bnqr',\n",
       " 'get_pulse_s',\n",
       " 'histogram_attribute_functions',\n",
       " 'scaler_attribute_functions',\n",
       " 'variable_attribute_functions']"
      ]
     },
     "execution_count": 3,
     "metadata": {},
     "output_type": "execute_result"
    }
   ],
   "source": [
    "dir(bd.bdata)"
   ]
  },
  {
   "cell_type": "code",
   "execution_count": 6,
   "metadata": {},
   "outputs": [
    {
     "data": {
      "text/plain": [
       "['__annotations__',\n",
       " '__call__',\n",
       " '__class__',\n",
       " '__closure__',\n",
       " '__code__',\n",
       " '__defaults__',\n",
       " '__delattr__',\n",
       " '__dict__',\n",
       " '__dir__',\n",
       " '__doc__',\n",
       " '__eq__',\n",
       " '__format__',\n",
       " '__ge__',\n",
       " '__get__',\n",
       " '__getattribute__',\n",
       " '__globals__',\n",
       " '__gt__',\n",
       " '__hash__',\n",
       " '__init__',\n",
       " '__init_subclass__',\n",
       " '__kwdefaults__',\n",
       " '__le__',\n",
       " '__lt__',\n",
       " '__module__',\n",
       " '__name__',\n",
       " '__ne__',\n",
       " '__new__',\n",
       " '__qualname__',\n",
       " '__reduce__',\n",
       " '__reduce_ex__',\n",
       " '__repr__',\n",
       " '__setattr__',\n",
       " '__sizeof__',\n",
       " '__str__',\n",
       " '__subclasshook__']"
      ]
     },
     "execution_count": 6,
     "metadata": {},
     "output_type": "execute_result"
    }
   ],
   "source": [
    "dir(bd.bdata.asym)"
   ]
  },
  {
   "cell_type": "code",
   "execution_count": null,
   "metadata": {},
   "outputs": [],
   "source": []
  }
 ],
 "metadata": {
  "kernelspec": {
   "display_name": "Python 3",
   "language": "python",
   "name": "python3"
  },
  "language_info": {
   "codemirror_mode": {
    "name": "ipython",
    "version": 3
   },
   "file_extension": ".py",
   "mimetype": "text/x-python",
   "name": "python",
   "nbconvert_exporter": "python",
   "pygments_lexer": "ipython3",
   "version": "3.7.4"
  }
 },
 "nbformat": 4,
 "nbformat_minor": 2
}
